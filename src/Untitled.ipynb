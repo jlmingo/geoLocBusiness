{
 "cells": [
  {
   "cell_type": "code",
   "execution_count": 3,
   "metadata": {},
   "outputs": [],
   "source": [
    "import pandas as pd\n",
    "\n",
    "df_oldcos = pd.read_csv(\"../Input/clean_df_companies.csv\")"
   ]
  },
  {
   "cell_type": "code",
   "execution_count": 5,
   "metadata": {},
   "outputs": [
    {
     "data": {
      "text/plain": [
       "Index(['Unnamed: 0', '_id', 'name', 'permalink', 'crunchbase_url',\n",
       "       'homepage_url', 'blog_url', 'blog_feed_url', 'twitter_username',\n",
       "       'category_code', 'number_of_employees', 'founded_year',\n",
       "       'deadpooled_year', 'tag_list', 'alias_list', 'email_address',\n",
       "       'phone_number', 'description', 'created_at', 'updated_at', 'overview',\n",
       "       'image', 'products', 'relationships', 'competitions', 'providerships',\n",
       "       'total_money_raised', 'funding_rounds', 'investments', 'acquisition',\n",
       "       'acquisitions', 'milestones', 'video_embeds', 'screenshots',\n",
       "       'external_links', 'partners', 'founded_month', 'founded_day',\n",
       "       'deadpooled_month', 'deadpooled_day', 'deadpooled_url', 'ipo',\n",
       "       'description.1', 'address1', 'address2', 'zip_code', 'city',\n",
       "       'state_code', 'country_code', 'latitude', 'longitude', 'Tech/Other'],\n",
       "      dtype='object')"
      ]
     },
     "execution_count": 5,
     "metadata": {},
     "output_type": "execute_result"
    }
   ],
   "source": [
    "df_oldcos = df_oldcos[]"
   ]
  },
  {
   "cell_type": "code",
   "execution_count": null,
   "metadata": {},
   "outputs": [],
   "source": []
  }
 ],
 "metadata": {
  "kernelspec": {
   "display_name": "Python 3",
   "language": "python",
   "name": "python3"
  },
  "language_info": {
   "codemirror_mode": {
    "name": "ipython",
    "version": 3
   },
   "file_extension": ".py",
   "mimetype": "text/x-python",
   "name": "python",
   "nbconvert_exporter": "python",
   "pygments_lexer": "ipython3",
   "version": "3.6.8"
  }
 },
 "nbformat": 4,
 "nbformat_minor": 2
}
