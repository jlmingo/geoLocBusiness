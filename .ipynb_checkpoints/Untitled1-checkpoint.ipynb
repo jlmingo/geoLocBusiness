{
 "cells": [
  {
   "cell_type": "code",
   "execution_count": 16,
   "metadata": {},
   "outputs": [],
   "source": [
    "#geoqueries with Airport\n",
    "from pymongo import MongoClient\n",
    "import pandas as pd\n"
   ]
  },
  {
   "cell_type": "code",
   "execution_count": 17,
   "metadata": {},
   "outputs": [],
   "source": [
    "def connectCollection(database, collection):\n",
    "    client = MongoClient()\n",
    "    db = client[database]\n",
    "    coll = db[collection]\n",
    "    return db, coll\n",
    "\n"
   ]
  },
  {
   "cell_type": "code",
   "execution_count": 18,
   "metadata": {},
   "outputs": [],
   "source": [
    "db, coll = connectCollection('companies','updated_companies')\n",
    "\n",
    "query_companies = list(coll.find({ \"$or\": [ {\"Tech/Other\": \"Tech\"}, {\"Tech/Other\": \"Other\"} ] } ))\n",
    "\n",
    "# pipeline = [\n",
    "#    {\n",
    "#       \"$geoNear\": {\n",
    "#          near: { type: \"Point\", coordinates: [ -73.9667, 40.78 ] },\n",
    "#          spherical: true,\n",
    "#          query: { category: \"Parks\" },\n",
    "#          distanceField: \"calcDistance\"\n",
    "#       }\n",
    "#    }\n",
    "# ]\n",
    "\n",
    "# results = list(coll.aggregate(pipeline))\n"
   ]
  },
  {
   "cell_type": "code",
   "execution_count": 19,
   "metadata": {},
   "outputs": [],
   "source": [
    "df = pd.DataFrame(query_companies)"
   ]
  },
  {
   "cell_type": "code",
   "execution_count": null,
   "metadata": {},
   "outputs": [],
   "source": []
  },
  {
   "cell_type": "code",
   "execution_count": null,
   "metadata": {},
   "outputs": [],
   "source": []
  },
  {
   "cell_type": "code",
   "execution_count": null,
   "metadata": {},
   "outputs": [],
   "source": []
  }
 ],
 "metadata": {
  "kernelspec": {
   "display_name": "Python 3",
   "language": "python",
   "name": "python3"
  },
  "language_info": {
   "codemirror_mode": {
    "name": "ipython",
    "version": 3
   },
   "file_extension": ".py",
   "mimetype": "text/x-python",
   "name": "python",
   "nbconvert_exporter": "python",
   "pygments_lexer": "ipython3",
   "version": "3.6.8"
  }
 },
 "nbformat": 4,
 "nbformat_minor": 2
}
