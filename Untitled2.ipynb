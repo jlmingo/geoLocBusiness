{
 "cells": [
  {
   "cell_type": "code",
   "execution_count": 51,
   "metadata": {},
   "outputs": [],
   "source": [
    "import pandas as pd"
   ]
  },
  {
   "cell_type": "code",
   "execution_count": 53,
   "metadata": {},
   "outputs": [],
   "source": [
    "df = pd.read_csv(\"./Input/clean_df_companies.csv\")"
   ]
  },
  {
   "cell_type": "code",
   "execution_count": 54,
   "metadata": {},
   "outputs": [
    {
     "data": {
      "text/html": [
       "<div>\n",
       "<style scoped>\n",
       "    .dataframe tbody tr th:only-of-type {\n",
       "        vertical-align: middle;\n",
       "    }\n",
       "\n",
       "    .dataframe tbody tr th {\n",
       "        vertical-align: top;\n",
       "    }\n",
       "\n",
       "    .dataframe thead th {\n",
       "        text-align: right;\n",
       "    }\n",
       "</style>\n",
       "<table border=\"1\" class=\"dataframe\">\n",
       "  <thead>\n",
       "    <tr style=\"text-align: right;\">\n",
       "      <th></th>\n",
       "      <th>Unnamed: 0</th>\n",
       "      <th>_id</th>\n",
       "      <th>name</th>\n",
       "      <th>permalink</th>\n",
       "      <th>crunchbase_url</th>\n",
       "      <th>homepage_url</th>\n",
       "      <th>blog_url</th>\n",
       "      <th>blog_feed_url</th>\n",
       "      <th>twitter_username</th>\n",
       "      <th>category_code</th>\n",
       "      <th>...</th>\n",
       "      <th>description.1</th>\n",
       "      <th>address1</th>\n",
       "      <th>address2</th>\n",
       "      <th>zip_code</th>\n",
       "      <th>city</th>\n",
       "      <th>state_code</th>\n",
       "      <th>country_code</th>\n",
       "      <th>latitude</th>\n",
       "      <th>longitude</th>\n",
       "      <th>Tech/Other</th>\n",
       "    </tr>\n",
       "  </thead>\n",
       "  <tbody>\n",
       "    <tr>\n",
       "      <th>0</th>\n",
       "      <td>0</td>\n",
       "      <td>52cdef7c4bab8bd675297d90</td>\n",
       "      <td>Postini</td>\n",
       "      <td>postini</td>\n",
       "      <td>http://www.crunchbase.com/company/postini</td>\n",
       "      <td>http://postini.com</td>\n",
       "      <td>NaN</td>\n",
       "      <td>NaN</td>\n",
       "      <td>NaN</td>\n",
       "      <td>web</td>\n",
       "      <td>...</td>\n",
       "      <td>NaN</td>\n",
       "      <td>959 Skyway Road, Suite 200</td>\n",
       "      <td>NaN</td>\n",
       "      <td>94070</td>\n",
       "      <td>San Carlos</td>\n",
       "      <td>CA</td>\n",
       "      <td>USA</td>\n",
       "      <td>37.506885</td>\n",
       "      <td>-122.247573</td>\n",
       "      <td>Tech</td>\n",
       "    </tr>\n",
       "    <tr>\n",
       "      <th>1</th>\n",
       "      <td>1</td>\n",
       "      <td>52cdef7c4bab8bd675297d91</td>\n",
       "      <td>Geni</td>\n",
       "      <td>geni</td>\n",
       "      <td>http://www.crunchbase.com/company/geni</td>\n",
       "      <td>http://www.geni.com</td>\n",
       "      <td>http://blog.geni.com</td>\n",
       "      <td>http://blog.geni.com/index.rdf</td>\n",
       "      <td>geni</td>\n",
       "      <td>web</td>\n",
       "      <td>...</td>\n",
       "      <td>Headquarters</td>\n",
       "      <td>9229 W. Sunset Blvd.</td>\n",
       "      <td>NaN</td>\n",
       "      <td>90069</td>\n",
       "      <td>West Hollywood</td>\n",
       "      <td>CA</td>\n",
       "      <td>USA</td>\n",
       "      <td>34.090368</td>\n",
       "      <td>-118.393064</td>\n",
       "      <td>Tech</td>\n",
       "    </tr>\n",
       "    <tr>\n",
       "      <th>2</th>\n",
       "      <td>2</td>\n",
       "      <td>52cdef7c4bab8bd675297d92</td>\n",
       "      <td>Flektor</td>\n",
       "      <td>flektor</td>\n",
       "      <td>http://www.crunchbase.com/company/flektor</td>\n",
       "      <td>http://www.flektor.com</td>\n",
       "      <td>http://www.flektor-blog.com</td>\n",
       "      <td>http://www.flektor-blog.com/video_editing_soft...</td>\n",
       "      <td>NaN</td>\n",
       "      <td>games_video</td>\n",
       "      <td>...</td>\n",
       "      <td>NaN</td>\n",
       "      <td>8536 National Blvd, Suite A</td>\n",
       "      <td>NaN</td>\n",
       "      <td>90232</td>\n",
       "      <td>Culver City</td>\n",
       "      <td>CA</td>\n",
       "      <td>USA</td>\n",
       "      <td>34.025958</td>\n",
       "      <td>-118.379768</td>\n",
       "      <td>Tech</td>\n",
       "    </tr>\n",
       "    <tr>\n",
       "      <th>3</th>\n",
       "      <td>3</td>\n",
       "      <td>52cdef7c4bab8bd675297d93</td>\n",
       "      <td>Fox Interactive Media</td>\n",
       "      <td>fox-interactive-media</td>\n",
       "      <td>http://www.crunchbase.com/company/fox-interact...</td>\n",
       "      <td>http://www.newscorp.com</td>\n",
       "      <td>NaN</td>\n",
       "      <td>NaN</td>\n",
       "      <td>twitterapi</td>\n",
       "      <td>web</td>\n",
       "      <td>...</td>\n",
       "      <td>NaN</td>\n",
       "      <td>407 N Maple Dr</td>\n",
       "      <td>NaN</td>\n",
       "      <td>90210</td>\n",
       "      <td>Beverly Hills</td>\n",
       "      <td>CA</td>\n",
       "      <td>USA</td>\n",
       "      <td>34.076179</td>\n",
       "      <td>-118.394170</td>\n",
       "      <td>Tech</td>\n",
       "    </tr>\n",
       "    <tr>\n",
       "      <th>4</th>\n",
       "      <td>4</td>\n",
       "      <td>52cdef7c4bab8bd675297d8d</td>\n",
       "      <td>Digg</td>\n",
       "      <td>digg</td>\n",
       "      <td>http://www.crunchbase.com/company/digg</td>\n",
       "      <td>http://www.digg.com</td>\n",
       "      <td>http://blog.digg.com/</td>\n",
       "      <td>http://blog.digg.com/?feed=rss2</td>\n",
       "      <td>digg</td>\n",
       "      <td>news</td>\n",
       "      <td>...</td>\n",
       "      <td>NaN</td>\n",
       "      <td>135 Mississippi St</td>\n",
       "      <td>NaN</td>\n",
       "      <td>94107</td>\n",
       "      <td>San Francisco</td>\n",
       "      <td>CA</td>\n",
       "      <td>USA</td>\n",
       "      <td>37.764726</td>\n",
       "      <td>-122.394523</td>\n",
       "      <td>Other</td>\n",
       "    </tr>\n",
       "  </tbody>\n",
       "</table>\n",
       "<p>5 rows × 52 columns</p>\n",
       "</div>"
      ],
      "text/plain": [
       "   Unnamed: 0                       _id                   name  \\\n",
       "0           0  52cdef7c4bab8bd675297d90                Postini   \n",
       "1           1  52cdef7c4bab8bd675297d91                   Geni   \n",
       "2           2  52cdef7c4bab8bd675297d92                Flektor   \n",
       "3           3  52cdef7c4bab8bd675297d93  Fox Interactive Media   \n",
       "4           4  52cdef7c4bab8bd675297d8d                   Digg   \n",
       "\n",
       "               permalink                                     crunchbase_url  \\\n",
       "0                postini          http://www.crunchbase.com/company/postini   \n",
       "1                   geni             http://www.crunchbase.com/company/geni   \n",
       "2                flektor          http://www.crunchbase.com/company/flektor   \n",
       "3  fox-interactive-media  http://www.crunchbase.com/company/fox-interact...   \n",
       "4                   digg             http://www.crunchbase.com/company/digg   \n",
       "\n",
       "              homepage_url                     blog_url  \\\n",
       "0       http://postini.com                          NaN   \n",
       "1      http://www.geni.com         http://blog.geni.com   \n",
       "2   http://www.flektor.com  http://www.flektor-blog.com   \n",
       "3  http://www.newscorp.com                          NaN   \n",
       "4      http://www.digg.com        http://blog.digg.com/   \n",
       "\n",
       "                                       blog_feed_url twitter_username  \\\n",
       "0                                                NaN              NaN   \n",
       "1                     http://blog.geni.com/index.rdf             geni   \n",
       "2  http://www.flektor-blog.com/video_editing_soft...              NaN   \n",
       "3                                                NaN       twitterapi   \n",
       "4                    http://blog.digg.com/?feed=rss2             digg   \n",
       "\n",
       "  category_code  ...  description.1                     address1  address2  \\\n",
       "0           web  ...            NaN   959 Skyway Road, Suite 200       NaN   \n",
       "1           web  ...   Headquarters         9229 W. Sunset Blvd.       NaN   \n",
       "2   games_video  ...            NaN  8536 National Blvd, Suite A       NaN   \n",
       "3           web  ...            NaN               407 N Maple Dr       NaN   \n",
       "4          news  ...            NaN           135 Mississippi St       NaN   \n",
       "\n",
       "  zip_code            city state_code country_code   latitude   longitude  \\\n",
       "0    94070      San Carlos         CA          USA  37.506885 -122.247573   \n",
       "1    90069  West Hollywood         CA          USA  34.090368 -118.393064   \n",
       "2    90232     Culver City         CA          USA  34.025958 -118.379768   \n",
       "3    90210   Beverly Hills         CA          USA  34.076179 -118.394170   \n",
       "4    94107   San Francisco         CA          USA  37.764726 -122.394523   \n",
       "\n",
       "  Tech/Other  \n",
       "0       Tech  \n",
       "1       Tech  \n",
       "2       Tech  \n",
       "3       Tech  \n",
       "4      Other  \n",
       "\n",
       "[5 rows x 52 columns]"
      ]
     },
     "execution_count": 54,
     "metadata": {},
     "output_type": "execute_result"
    }
   ],
   "source": [
    "df.head()"
   ]
  },
  {
   "cell_type": "code",
   "execution_count": 57,
   "metadata": {},
   "outputs": [
    {
     "data": {
      "text/plain": [
       "(37.506885, -122.247573)"
      ]
     },
     "execution_count": 57,
     "metadata": {},
     "output_type": "execute_result"
    }
   ],
   "source": [
    "a = (df.latitude[0], df.longitude[0])\n",
    "d"
   ]
  },
  {
   "cell_type": "code",
   "execution_count": 58,
   "metadata": {},
   "outputs": [
    {
     "data": {
      "text/plain": [
       "37.506885"
      ]
     },
     "execution_count": 58,
     "metadata": {},
     "output_type": "execute_result"
    }
   ],
   "source": [
    "df.coordinates = "
   ]
  },
  {
   "cell_type": "code",
   "execution_count": null,
   "metadata": {},
   "outputs": [],
   "source": []
  },
  {
   "cell_type": "code",
   "execution_count": null,
   "metadata": {},
   "outputs": [],
   "source": []
  },
  {
   "cell_type": "code",
   "execution_count": null,
   "metadata": {},
   "outputs": [],
   "source": []
  },
  {
   "cell_type": "code",
   "execution_count": null,
   "metadata": {},
   "outputs": [],
   "source": []
  },
  {
   "cell_type": "code",
   "execution_count": null,
   "metadata": {},
   "outputs": [],
   "source": []
  },
  {
   "cell_type": "code",
   "execution_count": null,
   "metadata": {},
   "outputs": [],
   "source": [
    "\n"
   ]
  },
  {
   "cell_type": "code",
   "execution_count": null,
   "metadata": {},
   "outputs": [],
   "source": []
  },
  {
   "cell_type": "code",
   "execution_count": null,
   "metadata": {},
   "outputs": [],
   "source": []
  },
  {
   "cell_type": "code",
   "execution_count": null,
   "metadata": {},
   "outputs": [],
   "source": []
  },
  {
   "cell_type": "code",
   "execution_count": null,
   "metadata": {},
   "outputs": [],
   "source": []
  }
 ],
 "metadata": {
  "kernelspec": {
   "display_name": "Python 3",
   "language": "python",
   "name": "python3"
  },
  "language_info": {
   "codemirror_mode": {
    "name": "ipython",
    "version": 3
   },
   "file_extension": ".py",
   "mimetype": "text/x-python",
   "name": "python",
   "nbconvert_exporter": "python",
   "pygments_lexer": "ipython3",
   "version": "3.6.8"
  }
 },
 "nbformat": 4,
 "nbformat_minor": 2
}
